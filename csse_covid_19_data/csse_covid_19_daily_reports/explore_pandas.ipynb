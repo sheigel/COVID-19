{
 "metadata": {
  "kernelspec": {
   "name": "python3",
   "language": "python",
   "display_name": "Python 3"
  },
  "language_info": {
   "name": "python",
   "version": "3.7.4",
   "mimetype": "text/x-python",
   "codemirror_mode": {
    "name": "ipython",
    "version": 3
   },
   "pygments_lexer": "ipython3",
   "nbconvert_exporter": "python",
   "file_extension": ".py"
  }
 },
 "nbformat_minor": 2,
 "nbformat": 4,
 "cells": [
  {
   "cell_type": "code",
   "source": [
    "import pandas as pd\n",
    "daily_reports_path = \"/Users/sheigel/work/databricks/COVID-19/csse_covid_19_data/csse_covid_19_daily_reports\""
   ],
   "metadata": {
    "azdata_cell_guid": "52235018-915c-441c-853e-8243992cf6a1",
    "tags": []
   },
   "outputs": [],
   "execution_count": 3
  },
  {
   "cell_type": "code",
   "source": [
    "df = pd.read_csv(daily_reports_path+\"/04-11-2020.csv\")"
   ],
   "metadata": {
    "azdata_cell_guid": "2f958adb-0dbb-4e96-9fc5-18c1a9452662"
   },
   "outputs": [],
   "execution_count": 4
  },
  {
   "cell_type": "code",
   "source": [
    "help(df.head)"
   ],
   "metadata": {
    "azdata_cell_guid": "c0ee2417-ffe1-4c26-b4d8-939926e34436"
   },
   "outputs": [
    {
     "name": "stdout",
     "output_type": "stream",
     "text": [
      "Help on method head in module pandas.core.generic:\n",
      "\n",
      "head(n=5) method of pandas.core.frame.DataFrame instance\n",
      "    Return the first `n` rows.\n",
      "    \n",
      "    This function returns the first `n` rows for the object based\n",
      "    on position. It is useful for quickly testing if your object\n",
      "    has the right type of data in it.\n",
      "    \n",
      "    Parameters\n",
      "    ----------\n",
      "    n : int, default 5\n",
      "        Number of rows to select.\n",
      "    \n",
      "    Returns\n",
      "    -------\n",
      "    obj_head : same type as caller\n",
      "        The first `n` rows of the caller object.\n",
      "    \n",
      "    See Also\n",
      "    --------\n",
      "    DataFrame.tail: Returns the last `n` rows.\n",
      "    \n",
      "    Examples\n",
      "    --------\n",
      "    >>> df = pd.DataFrame({'animal':['alligator', 'bee', 'falcon', 'lion',\n",
      "    ...                    'monkey', 'parrot', 'shark', 'whale', 'zebra']})\n",
      "    >>> df\n",
      "          animal\n",
      "    0  alligator\n",
      "    1        bee\n",
      "    2     falcon\n",
      "    3       lion\n",
      "    4     monkey\n",
      "    5     parrot\n",
      "    6      shark\n",
      "    7      whale\n",
      "    8      zebra\n",
      "    \n",
      "    Viewing the first 5 lines\n",
      "    \n",
      "    >>> df.head()\n",
      "          animal\n",
      "    0  alligator\n",
      "    1        bee\n",
      "    2     falcon\n",
      "    3       lion\n",
      "    4     monkey\n",
      "    \n",
      "    Viewing the first `n` lines (three in this case)\n",
      "    \n",
      "    >>> df.head(3)\n",
      "          animal\n",
      "    0  alligator\n",
      "    1        bee\n",
      "    2     falcon\n",
      "\n"
     ]
    }
   ],
   "execution_count": 5
  },
  {
   "cell_type": "code",
   "source": [
    "df.head()"
   ],
   "metadata": {
    "azdata_cell_guid": "7663f0a4-2000-459a-a29c-f6fdf53cc7c8"
   },
   "outputs": [
    {
     "data": {
      "text/plain": "      FIPS     Admin2  Province_State Country_Region          Last_Update  \\\n0  45001.0  Abbeville  South Carolina             US  2020-04-11 22:45:33   \n1  22001.0     Acadia       Louisiana             US  2020-04-11 22:45:33   \n2  51001.0   Accomack        Virginia             US  2020-04-11 22:45:33   \n3  16001.0        Ada           Idaho             US  2020-04-11 22:45:33   \n4  19001.0      Adair            Iowa             US  2020-04-11 22:45:33   \n\n         Lat       Long_  Confirmed  Deaths  Recovered  Active  \\\n0  34.223334  -82.461707          9       0          0       0   \n1  30.295065  -92.414197         98       4          0       0   \n2  37.767072  -75.632346         15       0          0       0   \n3  43.452658 -116.241552        513       6          0       0   \n4  41.330756  -94.471059          1       0          0       0   \n\n                    Combined_Key  \n0  Abbeville, South Carolina, US  \n1          Acadia, Louisiana, US  \n2         Accomack, Virginia, US  \n3                 Ada, Idaho, US  \n4                Adair, Iowa, US  ",
      "text/html": "<div>\n<style scoped>\n    .dataframe tbody tr th:only-of-type {\n        vertical-align: middle;\n    }\n\n    .dataframe tbody tr th {\n        vertical-align: top;\n    }\n\n    .dataframe thead th {\n        text-align: right;\n    }\n</style>\n<table border=\"1\" class=\"dataframe\">\n  <thead>\n    <tr style=\"text-align: right;\">\n      <th></th>\n      <th>FIPS</th>\n      <th>Admin2</th>\n      <th>Province_State</th>\n      <th>Country_Region</th>\n      <th>Last_Update</th>\n      <th>Lat</th>\n      <th>Long_</th>\n      <th>Confirmed</th>\n      <th>Deaths</th>\n      <th>Recovered</th>\n      <th>Active</th>\n      <th>Combined_Key</th>\n    </tr>\n  </thead>\n  <tbody>\n    <tr>\n      <th>0</th>\n      <td>45001.0</td>\n      <td>Abbeville</td>\n      <td>South Carolina</td>\n      <td>US</td>\n      <td>2020-04-11 22:45:33</td>\n      <td>34.223334</td>\n      <td>-82.461707</td>\n      <td>9</td>\n      <td>0</td>\n      <td>0</td>\n      <td>0</td>\n      <td>Abbeville, South Carolina, US</td>\n    </tr>\n    <tr>\n      <th>1</th>\n      <td>22001.0</td>\n      <td>Acadia</td>\n      <td>Louisiana</td>\n      <td>US</td>\n      <td>2020-04-11 22:45:33</td>\n      <td>30.295065</td>\n      <td>-92.414197</td>\n      <td>98</td>\n      <td>4</td>\n      <td>0</td>\n      <td>0</td>\n      <td>Acadia, Louisiana, US</td>\n    </tr>\n    <tr>\n      <th>2</th>\n      <td>51001.0</td>\n      <td>Accomack</td>\n      <td>Virginia</td>\n      <td>US</td>\n      <td>2020-04-11 22:45:33</td>\n      <td>37.767072</td>\n      <td>-75.632346</td>\n      <td>15</td>\n      <td>0</td>\n      <td>0</td>\n      <td>0</td>\n      <td>Accomack, Virginia, US</td>\n    </tr>\n    <tr>\n      <th>3</th>\n      <td>16001.0</td>\n      <td>Ada</td>\n      <td>Idaho</td>\n      <td>US</td>\n      <td>2020-04-11 22:45:33</td>\n      <td>43.452658</td>\n      <td>-116.241552</td>\n      <td>513</td>\n      <td>6</td>\n      <td>0</td>\n      <td>0</td>\n      <td>Ada, Idaho, US</td>\n    </tr>\n    <tr>\n      <th>4</th>\n      <td>19001.0</td>\n      <td>Adair</td>\n      <td>Iowa</td>\n      <td>US</td>\n      <td>2020-04-11 22:45:33</td>\n      <td>41.330756</td>\n      <td>-94.471059</td>\n      <td>1</td>\n      <td>0</td>\n      <td>0</td>\n      <td>0</td>\n      <td>Adair, Iowa, US</td>\n    </tr>\n  </tbody>\n</table>\n</div>"
     },
     "execution_count": 6,
     "metadata": {},
     "output_type": "execute_result"
    }
   ],
   "execution_count": 6
  },
  {
   "cell_type": "code",
   "source": [
    "df.tail(10)"
   ],
   "metadata": {
    "azdata_cell_guid": "e693b38f-1ea5-4d2a-b004-105ff86f42a8"
   },
   "outputs": [
    {
     "data": {
      "text/plain": "      FIPS      Admin2 Province_State      Country_Region  \\\n2955   NaN         NaN            NaN             Uruguay   \n2956   NaN         NaN            NaN          Uzbekistan   \n2957   NaN         NaN            NaN           Venezuela   \n2958   NaN         NaN            NaN             Vietnam   \n2959   NaN         NaN            NaN  West Bank and Gaza   \n2960   NaN         NaN            NaN      Western Sahara   \n2961   NaN         NaN            NaN               Yemen   \n2962   NaN         NaN            NaN              Zambia   \n2963   NaN         NaN            NaN            Zimbabwe   \n2964   NaN  unassigned           Utah                  US   \n\n              Last_Update        Lat       Long_  Confirmed  Deaths  \\\n2955  2020-04-11 22:45:13 -32.522800  -55.765800        494       7   \n2956  2020-04-11 22:45:13  41.377491   64.585262        767       4   \n2957  2020-04-11 22:45:13   6.423800  -66.589700        175       9   \n2958  2020-04-11 22:45:13  14.058324  108.277199        258       0   \n2959  2020-04-11 22:45:13  31.952200   35.233200        268       2   \n2960  2020-04-11 22:45:13  24.215500  -12.885800          4       0   \n2961  2020-04-11 22:45:13  15.552727   48.516388          1       0   \n2962  2020-04-11 22:45:13 -13.133897   27.849332         40       2   \n2963  2020-04-11 22:45:13 -19.015438   29.154857         14       3   \n2964  2020-04-11 22:45:33        NaN         NaN          0       5   \n\n      Recovered  Active          Combined_Key  \n2955        214     273               Uruguay  \n2956         42     721            Uzbekistan  \n2957         93      73             Venezuela  \n2958        144     114               Vietnam  \n2959         57     209    West Bank and Gaza  \n2960          0       4      ,,Western Sahara  \n2961          0       1                 Yemen  \n2962         28      10                Zambia  \n2963          0      11              Zimbabwe  \n2964          0       0  unassigned, Utah, US  ",
      "text/html": "<div>\n<style scoped>\n    .dataframe tbody tr th:only-of-type {\n        vertical-align: middle;\n    }\n\n    .dataframe tbody tr th {\n        vertical-align: top;\n    }\n\n    .dataframe thead th {\n        text-align: right;\n    }\n</style>\n<table border=\"1\" class=\"dataframe\">\n  <thead>\n    <tr style=\"text-align: right;\">\n      <th></th>\n      <th>FIPS</th>\n      <th>Admin2</th>\n      <th>Province_State</th>\n      <th>Country_Region</th>\n      <th>Last_Update</th>\n      <th>Lat</th>\n      <th>Long_</th>\n      <th>Confirmed</th>\n      <th>Deaths</th>\n      <th>Recovered</th>\n      <th>Active</th>\n      <th>Combined_Key</th>\n    </tr>\n  </thead>\n  <tbody>\n    <tr>\n      <th>2955</th>\n      <td>NaN</td>\n      <td>NaN</td>\n      <td>NaN</td>\n      <td>Uruguay</td>\n      <td>2020-04-11 22:45:13</td>\n      <td>-32.522800</td>\n      <td>-55.765800</td>\n      <td>494</td>\n      <td>7</td>\n      <td>214</td>\n      <td>273</td>\n      <td>Uruguay</td>\n    </tr>\n    <tr>\n      <th>2956</th>\n      <td>NaN</td>\n      <td>NaN</td>\n      <td>NaN</td>\n      <td>Uzbekistan</td>\n      <td>2020-04-11 22:45:13</td>\n      <td>41.377491</td>\n      <td>64.585262</td>\n      <td>767</td>\n      <td>4</td>\n      <td>42</td>\n      <td>721</td>\n      <td>Uzbekistan</td>\n    </tr>\n    <tr>\n      <th>2957</th>\n      <td>NaN</td>\n      <td>NaN</td>\n      <td>NaN</td>\n      <td>Venezuela</td>\n      <td>2020-04-11 22:45:13</td>\n      <td>6.423800</td>\n      <td>-66.589700</td>\n      <td>175</td>\n      <td>9</td>\n      <td>93</td>\n      <td>73</td>\n      <td>Venezuela</td>\n    </tr>\n    <tr>\n      <th>2958</th>\n      <td>NaN</td>\n      <td>NaN</td>\n      <td>NaN</td>\n      <td>Vietnam</td>\n      <td>2020-04-11 22:45:13</td>\n      <td>14.058324</td>\n      <td>108.277199</td>\n      <td>258</td>\n      <td>0</td>\n      <td>144</td>\n      <td>114</td>\n      <td>Vietnam</td>\n    </tr>\n    <tr>\n      <th>2959</th>\n      <td>NaN</td>\n      <td>NaN</td>\n      <td>NaN</td>\n      <td>West Bank and Gaza</td>\n      <td>2020-04-11 22:45:13</td>\n      <td>31.952200</td>\n      <td>35.233200</td>\n      <td>268</td>\n      <td>2</td>\n      <td>57</td>\n      <td>209</td>\n      <td>West Bank and Gaza</td>\n    </tr>\n    <tr>\n      <th>2960</th>\n      <td>NaN</td>\n      <td>NaN</td>\n      <td>NaN</td>\n      <td>Western Sahara</td>\n      <td>2020-04-11 22:45:13</td>\n      <td>24.215500</td>\n      <td>-12.885800</td>\n      <td>4</td>\n      <td>0</td>\n      <td>0</td>\n      <td>4</td>\n      <td>,,Western Sahara</td>\n    </tr>\n    <tr>\n      <th>2961</th>\n      <td>NaN</td>\n      <td>NaN</td>\n      <td>NaN</td>\n      <td>Yemen</td>\n      <td>2020-04-11 22:45:13</td>\n      <td>15.552727</td>\n      <td>48.516388</td>\n      <td>1</td>\n      <td>0</td>\n      <td>0</td>\n      <td>1</td>\n      <td>Yemen</td>\n    </tr>\n    <tr>\n      <th>2962</th>\n      <td>NaN</td>\n      <td>NaN</td>\n      <td>NaN</td>\n      <td>Zambia</td>\n      <td>2020-04-11 22:45:13</td>\n      <td>-13.133897</td>\n      <td>27.849332</td>\n      <td>40</td>\n      <td>2</td>\n      <td>28</td>\n      <td>10</td>\n      <td>Zambia</td>\n    </tr>\n    <tr>\n      <th>2963</th>\n      <td>NaN</td>\n      <td>NaN</td>\n      <td>NaN</td>\n      <td>Zimbabwe</td>\n      <td>2020-04-11 22:45:13</td>\n      <td>-19.015438</td>\n      <td>29.154857</td>\n      <td>14</td>\n      <td>3</td>\n      <td>0</td>\n      <td>11</td>\n      <td>Zimbabwe</td>\n    </tr>\n    <tr>\n      <th>2964</th>\n      <td>NaN</td>\n      <td>unassigned</td>\n      <td>Utah</td>\n      <td>US</td>\n      <td>2020-04-11 22:45:33</td>\n      <td>NaN</td>\n      <td>NaN</td>\n      <td>0</td>\n      <td>5</td>\n      <td>0</td>\n      <td>0</td>\n      <td>unassigned, Utah, US</td>\n    </tr>\n  </tbody>\n</table>\n</div>"
     },
     "execution_count": 7,
     "metadata": {},
     "output_type": "execute_result"
    }
   ],
   "execution_count": 7
  },
  {
   "cell_type": "code",
   "source": [
    "#df.sum()\n",
    "df.min()\n",
    "df.mean()\n",
    "df.std()"
   ],
   "metadata": {
    "azdata_cell_guid": "f314ba5f-27b8-4a6e-acd4-27e8f898212a",
    "tags": []
   },
   "outputs": [
    {
     "data": {
      "text/plain": "FIPS         17195.765629\nLat              9.996576\nLong_           40.637602\nConfirmed     6259.836846\nDeaths         593.497143\nRecovered     2303.432966\nActive        3663.908318\ndtype: float64"
     },
     "execution_count": 8,
     "metadata": {},
     "output_type": "execute_result"
    }
   ],
   "execution_count": 8
  },
  {
   "cell_type": "code",
   "source": [
    "df.describe()"
   ],
   "metadata": {
    "azdata_cell_guid": "89759274-6752-432b-920a-b42e9b881bcc"
   },
   "outputs": [
    {
     "data": {
      "text/plain": "               FIPS          Lat        Long_      Confirmed        Deaths  \\\ncount   2686.000000  2907.000000  2907.000000    2965.000000   2965.000000   \nmean   31172.744602    36.581616   -80.630198     597.475211     36.594266   \nstd    17195.765629     9.996576    40.637602    6259.836846    593.497143   \nmin       66.000000   -51.796300  -159.856183       0.000000      0.000000   \n25%    18085.500000    33.730899   -95.619116       4.000000      0.000000   \n50%    29144.000000    37.829989   -87.356027      13.000000      0.000000   \n75%    46066.500000    41.474923   -80.789848      64.000000      2.000000   \nmax    99999.000000    71.706900   178.065000  163027.000000  19468.000000   \n\n          Recovered         Active  \ncount   2965.000000    2965.000000  \nmean     135.618887     259.752108  \nstd     2303.432966    3663.908318  \nmin        0.000000       0.000000  \n25%        0.000000       0.000000  \n50%        0.000000       0.000000  \n75%        0.000000       0.000000  \nmax    64264.000000  100269.000000  ",
      "text/html": "<div>\n<style scoped>\n    .dataframe tbody tr th:only-of-type {\n        vertical-align: middle;\n    }\n\n    .dataframe tbody tr th {\n        vertical-align: top;\n    }\n\n    .dataframe thead th {\n        text-align: right;\n    }\n</style>\n<table border=\"1\" class=\"dataframe\">\n  <thead>\n    <tr style=\"text-align: right;\">\n      <th></th>\n      <th>FIPS</th>\n      <th>Lat</th>\n      <th>Long_</th>\n      <th>Confirmed</th>\n      <th>Deaths</th>\n      <th>Recovered</th>\n      <th>Active</th>\n    </tr>\n  </thead>\n  <tbody>\n    <tr>\n      <th>count</th>\n      <td>2686.000000</td>\n      <td>2907.000000</td>\n      <td>2907.000000</td>\n      <td>2965.000000</td>\n      <td>2965.000000</td>\n      <td>2965.000000</td>\n      <td>2965.000000</td>\n    </tr>\n    <tr>\n      <th>mean</th>\n      <td>31172.744602</td>\n      <td>36.581616</td>\n      <td>-80.630198</td>\n      <td>597.475211</td>\n      <td>36.594266</td>\n      <td>135.618887</td>\n      <td>259.752108</td>\n    </tr>\n    <tr>\n      <th>std</th>\n      <td>17195.765629</td>\n      <td>9.996576</td>\n      <td>40.637602</td>\n      <td>6259.836846</td>\n      <td>593.497143</td>\n      <td>2303.432966</td>\n      <td>3663.908318</td>\n    </tr>\n    <tr>\n      <th>min</th>\n      <td>66.000000</td>\n      <td>-51.796300</td>\n      <td>-159.856183</td>\n      <td>0.000000</td>\n      <td>0.000000</td>\n      <td>0.000000</td>\n      <td>0.000000</td>\n    </tr>\n    <tr>\n      <th>25%</th>\n      <td>18085.500000</td>\n      <td>33.730899</td>\n      <td>-95.619116</td>\n      <td>4.000000</td>\n      <td>0.000000</td>\n      <td>0.000000</td>\n      <td>0.000000</td>\n    </tr>\n    <tr>\n      <th>50%</th>\n      <td>29144.000000</td>\n      <td>37.829989</td>\n      <td>-87.356027</td>\n      <td>13.000000</td>\n      <td>0.000000</td>\n      <td>0.000000</td>\n      <td>0.000000</td>\n    </tr>\n    <tr>\n      <th>75%</th>\n      <td>46066.500000</td>\n      <td>41.474923</td>\n      <td>-80.789848</td>\n      <td>64.000000</td>\n      <td>2.000000</td>\n      <td>0.000000</td>\n      <td>0.000000</td>\n    </tr>\n    <tr>\n      <th>max</th>\n      <td>99999.000000</td>\n      <td>71.706900</td>\n      <td>178.065000</td>\n      <td>163027.000000</td>\n      <td>19468.000000</td>\n      <td>64264.000000</td>\n      <td>100269.000000</td>\n    </tr>\n  </tbody>\n</table>\n</div>"
     },
     "execution_count": 11,
     "metadata": {},
     "output_type": "execute_result"
    }
   ],
   "execution_count": 11
  },
  {
   "cell_type": "code",
   "execution_count": 15,
   "outputs": [
    {
     "data": {
      "text/plain": "1"
     },
     "execution_count": 15,
     "metadata": {},
     "output_type": "execute_result"
    }
   ],
   "source": [
    "df[\"Confirmed\"].head().min()"
   ],
   "metadata": {
    "collapsed": false,
    "pycharm": {
     "name": "#%%\n"
    }
   }
  },
  {
   "cell_type": "code",
   "execution_count": 16,
   "outputs": [
    {
     "data": {
      "text/plain": "Index(['FIPS', 'Admin2', 'Province_State', 'Country_Region', 'Last_Update',\n       'Lat', 'Long_', 'Confirmed', 'Deaths', 'Recovered', 'Active',\n       'Combined_Key'],\n      dtype='object')"
     },
     "execution_count": 16,
     "metadata": {},
     "output_type": "execute_result"
    }
   ],
   "source": [
    "df.columns"
   ],
   "metadata": {
    "collapsed": false,
    "pycharm": {
     "name": "#%%\n"
    }
   }
  },
  {
   "cell_type": "code",
   "execution_count": 20,
   "outputs": [
    {
     "data": {
      "text/plain": "      Country_Region  Confirmed\n0                 US          9\n1                 US         98\n2                 US         15\n3                 US        513\n4                 US          1\n...              ...        ...\n2960  Western Sahara          4\n2961           Yemen          1\n2962          Zambia         40\n2963        Zimbabwe         14\n2964              US          0\n\n[2965 rows x 2 columns]",
      "text/html": "<div>\n<style scoped>\n    .dataframe tbody tr th:only-of-type {\n        vertical-align: middle;\n    }\n\n    .dataframe tbody tr th {\n        vertical-align: top;\n    }\n\n    .dataframe thead th {\n        text-align: right;\n    }\n</style>\n<table border=\"1\" class=\"dataframe\">\n  <thead>\n    <tr style=\"text-align: right;\">\n      <th></th>\n      <th>Country_Region</th>\n      <th>Confirmed</th>\n    </tr>\n  </thead>\n  <tbody>\n    <tr>\n      <th>0</th>\n      <td>US</td>\n      <td>9</td>\n    </tr>\n    <tr>\n      <th>1</th>\n      <td>US</td>\n      <td>98</td>\n    </tr>\n    <tr>\n      <th>2</th>\n      <td>US</td>\n      <td>15</td>\n    </tr>\n    <tr>\n      <th>3</th>\n      <td>US</td>\n      <td>513</td>\n    </tr>\n    <tr>\n      <th>4</th>\n      <td>US</td>\n      <td>1</td>\n    </tr>\n    <tr>\n      <th>...</th>\n      <td>...</td>\n      <td>...</td>\n    </tr>\n    <tr>\n      <th>2960</th>\n      <td>Western Sahara</td>\n      <td>4</td>\n    </tr>\n    <tr>\n      <th>2961</th>\n      <td>Yemen</td>\n      <td>1</td>\n    </tr>\n    <tr>\n      <th>2962</th>\n      <td>Zambia</td>\n      <td>40</td>\n    </tr>\n    <tr>\n      <th>2963</th>\n      <td>Zimbabwe</td>\n      <td>14</td>\n    </tr>\n    <tr>\n      <th>2964</th>\n      <td>US</td>\n      <td>0</td>\n    </tr>\n  </tbody>\n</table>\n<p>2965 rows × 2 columns</p>\n</div>"
     },
     "execution_count": 20,
     "metadata": {},
     "output_type": "execute_result"
    }
   ],
   "source": [
    "df[[\"Country_Region\", \"Confirmed\"]]"
   ],
   "metadata": {
    "collapsed": false,
    "pycharm": {
     "name": "#%%\n"
    }
   }
  },
  {
   "cell_type": "code",
   "execution_count": 24,
   "outputs": [
    {
     "data": {
      "text/plain": "0    2020-04-11\n1    2020-04-11\n2    2020-04-11\n3    2020-04-11\n4    2020-04-11\nName: Date, dtype: object"
     },
     "execution_count": 24,
     "metadata": {},
     "output_type": "execute_result"
    }
   ],
   "source": [
    "import datetime\n",
    "\n",
    "df[\"Date\"] = datetime.date(2020,4, 11)\n",
    "\n",
    "\n",
    "df[\"Date\"].head()"
   ],
   "metadata": {
    "collapsed": false,
    "pycharm": {
     "name": "#%%\n"
    }
   }
  },
  {
   "cell_type": "code",
   "execution_count": 26,
   "outputs": [
    {
     "data": {
      "text/plain": "   Country_Region  Confirmed\n0              US          9\n1              US         98\n2              US         15\n3              US        513\n4              US          1\n5              US          6\n6              US         11\n7              US         27\n8              US        543\n9              US          1\n10             US         25",
      "text/html": "<div>\n<style scoped>\n    .dataframe tbody tr th:only-of-type {\n        vertical-align: middle;\n    }\n\n    .dataframe tbody tr th {\n        vertical-align: top;\n    }\n\n    .dataframe thead th {\n        text-align: right;\n    }\n</style>\n<table border=\"1\" class=\"dataframe\">\n  <thead>\n    <tr style=\"text-align: right;\">\n      <th></th>\n      <th>Country_Region</th>\n      <th>Confirmed</th>\n    </tr>\n  </thead>\n  <tbody>\n    <tr>\n      <th>0</th>\n      <td>US</td>\n      <td>9</td>\n    </tr>\n    <tr>\n      <th>1</th>\n      <td>US</td>\n      <td>98</td>\n    </tr>\n    <tr>\n      <th>2</th>\n      <td>US</td>\n      <td>15</td>\n    </tr>\n    <tr>\n      <th>3</th>\n      <td>US</td>\n      <td>513</td>\n    </tr>\n    <tr>\n      <th>4</th>\n      <td>US</td>\n      <td>1</td>\n    </tr>\n    <tr>\n      <th>5</th>\n      <td>US</td>\n      <td>6</td>\n    </tr>\n    <tr>\n      <th>6</th>\n      <td>US</td>\n      <td>11</td>\n    </tr>\n    <tr>\n      <th>7</th>\n      <td>US</td>\n      <td>27</td>\n    </tr>\n    <tr>\n      <th>8</th>\n      <td>US</td>\n      <td>543</td>\n    </tr>\n    <tr>\n      <th>9</th>\n      <td>US</td>\n      <td>1</td>\n    </tr>\n    <tr>\n      <th>10</th>\n      <td>US</td>\n      <td>25</td>\n    </tr>\n  </tbody>\n</table>\n</div>"
     },
     "execution_count": 26,
     "metadata": {},
     "output_type": "execute_result"
    }
   ],
   "source": [
    "df.loc[:10, ['Country_Region', 'Confirmed']]\n"
   ],
   "metadata": {
    "collapsed": false,
    "pycharm": {
     "name": "#%%\n"
    }
   }
  },
  {
   "cell_type": "code",
   "execution_count": 28,
   "outputs": [
    {
     "data": {
      "text/plain": "45001.0"
     },
     "execution_count": 28,
     "metadata": {},
     "output_type": "execute_result"
    }
   ],
   "source": [
    "df.iloc[0,0]\n"
   ],
   "metadata": {
    "collapsed": false,
    "pycharm": {
     "name": "#%%\n"
    }
   }
  },
  {
   "cell_type": "code",
   "execution_count": 29,
   "outputs": [
    {
     "data": {
      "text/plain": "US                2702\nChina               33\nCanada              15\nFrance              11\nUnited Kingdom      11\n                  ... \nSuriname             1\nSenegal              1\nBrazil               1\nJamaica              1\nPhilippines          1\nName: Country_Region, Length: 185, dtype: int64"
     },
     "execution_count": 29,
     "metadata": {},
     "output_type": "execute_result"
    }
   ],
   "source": [
    "df[\"Country_Region\"].value_counts()"
   ],
   "metadata": {
    "collapsed": false,
    "pycharm": {
     "name": "#%%\n"
    }
   }
  },
  {
   "cell_type": "code",
   "execution_count": 31,
   "outputs": [],
   "source": [
    "df = df.drop(\"FIPS\", axis=1)"
   ],
   "metadata": {
    "collapsed": false,
    "pycharm": {
     "name": "#%%\n"
    }
   }
  },
  {
   "cell_type": "code",
   "execution_count": 32,
   "outputs": [
    {
     "data": {
      "text/plain": "          Admin2  Province_State  Country_Region          Last_Update  \\\n0      Abbeville  South Carolina              US  2020-04-11 22:45:33   \n1         Acadia       Louisiana              US  2020-04-11 22:45:33   \n2       Accomack        Virginia              US  2020-04-11 22:45:33   \n3            Ada           Idaho              US  2020-04-11 22:45:33   \n4          Adair            Iowa              US  2020-04-11 22:45:33   \n...          ...             ...             ...                  ...   \n2960         NaN             NaN  Western Sahara  2020-04-11 22:45:13   \n2961         NaN             NaN           Yemen  2020-04-11 22:45:13   \n2962         NaN             NaN          Zambia  2020-04-11 22:45:13   \n2963         NaN             NaN        Zimbabwe  2020-04-11 22:45:13   \n2964  unassigned            Utah              US  2020-04-11 22:45:33   \n\n            Lat       Long_  Confirmed  Deaths  Recovered  Active  \\\n0     34.223334  -82.461707          9       0          0       0   \n1     30.295065  -92.414197         98       4          0       0   \n2     37.767072  -75.632346         15       0          0       0   \n3     43.452658 -116.241552        513       6          0       0   \n4     41.330756  -94.471059          1       0          0       0   \n...         ...         ...        ...     ...        ...     ...   \n2960  24.215500  -12.885800          4       0          0       4   \n2961  15.552727   48.516388          1       0          0       1   \n2962 -13.133897   27.849332         40       2         28      10   \n2963 -19.015438   29.154857         14       3          0      11   \n2964        NaN         NaN          0       5          0       0   \n\n                       Combined_Key        Date  \n0     Abbeville, South Carolina, US  2020-04-11  \n1             Acadia, Louisiana, US  2020-04-11  \n2            Accomack, Virginia, US  2020-04-11  \n3                    Ada, Idaho, US  2020-04-11  \n4                   Adair, Iowa, US  2020-04-11  \n...                             ...         ...  \n2960               ,,Western Sahara  2020-04-11  \n2961                          Yemen  2020-04-11  \n2962                         Zambia  2020-04-11  \n2963                       Zimbabwe  2020-04-11  \n2964           unassigned, Utah, US  2020-04-11  \n\n[2965 rows x 12 columns]",
      "text/html": "<div>\n<style scoped>\n    .dataframe tbody tr th:only-of-type {\n        vertical-align: middle;\n    }\n\n    .dataframe tbody tr th {\n        vertical-align: top;\n    }\n\n    .dataframe thead th {\n        text-align: right;\n    }\n</style>\n<table border=\"1\" class=\"dataframe\">\n  <thead>\n    <tr style=\"text-align: right;\">\n      <th></th>\n      <th>Admin2</th>\n      <th>Province_State</th>\n      <th>Country_Region</th>\n      <th>Last_Update</th>\n      <th>Lat</th>\n      <th>Long_</th>\n      <th>Confirmed</th>\n      <th>Deaths</th>\n      <th>Recovered</th>\n      <th>Active</th>\n      <th>Combined_Key</th>\n      <th>Date</th>\n    </tr>\n  </thead>\n  <tbody>\n    <tr>\n      <th>0</th>\n      <td>Abbeville</td>\n      <td>South Carolina</td>\n      <td>US</td>\n      <td>2020-04-11 22:45:33</td>\n      <td>34.223334</td>\n      <td>-82.461707</td>\n      <td>9</td>\n      <td>0</td>\n      <td>0</td>\n      <td>0</td>\n      <td>Abbeville, South Carolina, US</td>\n      <td>2020-04-11</td>\n    </tr>\n    <tr>\n      <th>1</th>\n      <td>Acadia</td>\n      <td>Louisiana</td>\n      <td>US</td>\n      <td>2020-04-11 22:45:33</td>\n      <td>30.295065</td>\n      <td>-92.414197</td>\n      <td>98</td>\n      <td>4</td>\n      <td>0</td>\n      <td>0</td>\n      <td>Acadia, Louisiana, US</td>\n      <td>2020-04-11</td>\n    </tr>\n    <tr>\n      <th>2</th>\n      <td>Accomack</td>\n      <td>Virginia</td>\n      <td>US</td>\n      <td>2020-04-11 22:45:33</td>\n      <td>37.767072</td>\n      <td>-75.632346</td>\n      <td>15</td>\n      <td>0</td>\n      <td>0</td>\n      <td>0</td>\n      <td>Accomack, Virginia, US</td>\n      <td>2020-04-11</td>\n    </tr>\n    <tr>\n      <th>3</th>\n      <td>Ada</td>\n      <td>Idaho</td>\n      <td>US</td>\n      <td>2020-04-11 22:45:33</td>\n      <td>43.452658</td>\n      <td>-116.241552</td>\n      <td>513</td>\n      <td>6</td>\n      <td>0</td>\n      <td>0</td>\n      <td>Ada, Idaho, US</td>\n      <td>2020-04-11</td>\n    </tr>\n    <tr>\n      <th>4</th>\n      <td>Adair</td>\n      <td>Iowa</td>\n      <td>US</td>\n      <td>2020-04-11 22:45:33</td>\n      <td>41.330756</td>\n      <td>-94.471059</td>\n      <td>1</td>\n      <td>0</td>\n      <td>0</td>\n      <td>0</td>\n      <td>Adair, Iowa, US</td>\n      <td>2020-04-11</td>\n    </tr>\n    <tr>\n      <th>...</th>\n      <td>...</td>\n      <td>...</td>\n      <td>...</td>\n      <td>...</td>\n      <td>...</td>\n      <td>...</td>\n      <td>...</td>\n      <td>...</td>\n      <td>...</td>\n      <td>...</td>\n      <td>...</td>\n      <td>...</td>\n    </tr>\n    <tr>\n      <th>2960</th>\n      <td>NaN</td>\n      <td>NaN</td>\n      <td>Western Sahara</td>\n      <td>2020-04-11 22:45:13</td>\n      <td>24.215500</td>\n      <td>-12.885800</td>\n      <td>4</td>\n      <td>0</td>\n      <td>0</td>\n      <td>4</td>\n      <td>,,Western Sahara</td>\n      <td>2020-04-11</td>\n    </tr>\n    <tr>\n      <th>2961</th>\n      <td>NaN</td>\n      <td>NaN</td>\n      <td>Yemen</td>\n      <td>2020-04-11 22:45:13</td>\n      <td>15.552727</td>\n      <td>48.516388</td>\n      <td>1</td>\n      <td>0</td>\n      <td>0</td>\n      <td>1</td>\n      <td>Yemen</td>\n      <td>2020-04-11</td>\n    </tr>\n    <tr>\n      <th>2962</th>\n      <td>NaN</td>\n      <td>NaN</td>\n      <td>Zambia</td>\n      <td>2020-04-11 22:45:13</td>\n      <td>-13.133897</td>\n      <td>27.849332</td>\n      <td>40</td>\n      <td>2</td>\n      <td>28</td>\n      <td>10</td>\n      <td>Zambia</td>\n      <td>2020-04-11</td>\n    </tr>\n    <tr>\n      <th>2963</th>\n      <td>NaN</td>\n      <td>NaN</td>\n      <td>Zimbabwe</td>\n      <td>2020-04-11 22:45:13</td>\n      <td>-19.015438</td>\n      <td>29.154857</td>\n      <td>14</td>\n      <td>3</td>\n      <td>0</td>\n      <td>11</td>\n      <td>Zimbabwe</td>\n      <td>2020-04-11</td>\n    </tr>\n    <tr>\n      <th>2964</th>\n      <td>unassigned</td>\n      <td>Utah</td>\n      <td>US</td>\n      <td>2020-04-11 22:45:33</td>\n      <td>NaN</td>\n      <td>NaN</td>\n      <td>0</td>\n      <td>5</td>\n      <td>0</td>\n      <td>0</td>\n      <td>unassigned, Utah, US</td>\n      <td>2020-04-11</td>\n    </tr>\n  </tbody>\n</table>\n<p>2965 rows × 12 columns</p>\n</div>"
     },
     "execution_count": 32,
     "metadata": {},
     "output_type": "execute_result"
    }
   ],
   "source": [
    "df"
   ],
   "metadata": {
    "collapsed": false,
    "pycharm": {
     "name": "#%%\n"
    }
   }
  },
  {
   "cell_type": "code",
   "execution_count": 33,
   "outputs": [
    {
     "data": {
      "text/plain": "             Admin2 Province_State Country_Region          Last_Update  \\\n2936            NaN            NaN          Spain  2020-04-11 22:45:13   \n2864            NaN            NaN          Italy  2020-04-11 22:45:13   \n2841            NaN            NaN         France  2020-04-11 22:45:13   \n2845            NaN            NaN        Germany  2020-04-11 22:45:13   \n1734  New York City       New York             US  2020-04-11 22:45:33   \n...             ...            ...            ...                  ...   \n278           Butte   South Dakota             US  2020-04-11 22:45:33   \n2397     Unassigned        Alabama             US  2020-04-11 22:45:33   \n2398     Unassigned         Alaska             US  2020-04-11 22:45:33   \n2399     Unassigned        Arizona             US  2020-04-11 22:45:33   \n2964     unassigned           Utah             US  2020-04-11 22:45:33   \n\n            Lat       Long_  Confirmed  Deaths  Recovered  Active  \\\n2936  40.463667   -3.749220     163027   16606      59109   87312   \n2864  41.871940   12.567380     152271   19468      32534  100269   \n2841  46.227600    2.213700     129654   13832      26391   89431   \n2845  51.165691   10.451526     124908    2736      57400   64772   \n1734  40.767273  -73.971526      98308    6367          0       0   \n...         ...         ...        ...     ...        ...     ...   \n278   44.906087 -103.507932          0       0          0       0   \n2397        NaN         NaN          0       0          0       0   \n2398        NaN         NaN          0       3          0       0   \n2399        NaN         NaN          0      29          0       0   \n2964        NaN         NaN          0       5          0       0   \n\n                     Combined_Key        Date  \n2936                        Spain  2020-04-11  \n2864                        Italy  2020-04-11  \n2841                     ,,France  2020-04-11  \n2845                      Germany  2020-04-11  \n1734  New York City, New York, US  2020-04-11  \n...                           ...         ...  \n278       Butte, South Dakota, US  2020-04-11  \n2397      Unassigned, Alabama, US  2020-04-11  \n2398       Unassigned, Alaska, US  2020-04-11  \n2399      Unassigned, Arizona, US  2020-04-11  \n2964         unassigned, Utah, US  2020-04-11  \n\n[2965 rows x 12 columns]",
      "text/html": "<div>\n<style scoped>\n    .dataframe tbody tr th:only-of-type {\n        vertical-align: middle;\n    }\n\n    .dataframe tbody tr th {\n        vertical-align: top;\n    }\n\n    .dataframe thead th {\n        text-align: right;\n    }\n</style>\n<table border=\"1\" class=\"dataframe\">\n  <thead>\n    <tr style=\"text-align: right;\">\n      <th></th>\n      <th>Admin2</th>\n      <th>Province_State</th>\n      <th>Country_Region</th>\n      <th>Last_Update</th>\n      <th>Lat</th>\n      <th>Long_</th>\n      <th>Confirmed</th>\n      <th>Deaths</th>\n      <th>Recovered</th>\n      <th>Active</th>\n      <th>Combined_Key</th>\n      <th>Date</th>\n    </tr>\n  </thead>\n  <tbody>\n    <tr>\n      <th>2936</th>\n      <td>NaN</td>\n      <td>NaN</td>\n      <td>Spain</td>\n      <td>2020-04-11 22:45:13</td>\n      <td>40.463667</td>\n      <td>-3.749220</td>\n      <td>163027</td>\n      <td>16606</td>\n      <td>59109</td>\n      <td>87312</td>\n      <td>Spain</td>\n      <td>2020-04-11</td>\n    </tr>\n    <tr>\n      <th>2864</th>\n      <td>NaN</td>\n      <td>NaN</td>\n      <td>Italy</td>\n      <td>2020-04-11 22:45:13</td>\n      <td>41.871940</td>\n      <td>12.567380</td>\n      <td>152271</td>\n      <td>19468</td>\n      <td>32534</td>\n      <td>100269</td>\n      <td>Italy</td>\n      <td>2020-04-11</td>\n    </tr>\n    <tr>\n      <th>2841</th>\n      <td>NaN</td>\n      <td>NaN</td>\n      <td>France</td>\n      <td>2020-04-11 22:45:13</td>\n      <td>46.227600</td>\n      <td>2.213700</td>\n      <td>129654</td>\n      <td>13832</td>\n      <td>26391</td>\n      <td>89431</td>\n      <td>,,France</td>\n      <td>2020-04-11</td>\n    </tr>\n    <tr>\n      <th>2845</th>\n      <td>NaN</td>\n      <td>NaN</td>\n      <td>Germany</td>\n      <td>2020-04-11 22:45:13</td>\n      <td>51.165691</td>\n      <td>10.451526</td>\n      <td>124908</td>\n      <td>2736</td>\n      <td>57400</td>\n      <td>64772</td>\n      <td>Germany</td>\n      <td>2020-04-11</td>\n    </tr>\n    <tr>\n      <th>1734</th>\n      <td>New York City</td>\n      <td>New York</td>\n      <td>US</td>\n      <td>2020-04-11 22:45:33</td>\n      <td>40.767273</td>\n      <td>-73.971526</td>\n      <td>98308</td>\n      <td>6367</td>\n      <td>0</td>\n      <td>0</td>\n      <td>New York City, New York, US</td>\n      <td>2020-04-11</td>\n    </tr>\n    <tr>\n      <th>...</th>\n      <td>...</td>\n      <td>...</td>\n      <td>...</td>\n      <td>...</td>\n      <td>...</td>\n      <td>...</td>\n      <td>...</td>\n      <td>...</td>\n      <td>...</td>\n      <td>...</td>\n      <td>...</td>\n      <td>...</td>\n    </tr>\n    <tr>\n      <th>278</th>\n      <td>Butte</td>\n      <td>South Dakota</td>\n      <td>US</td>\n      <td>2020-04-11 22:45:33</td>\n      <td>44.906087</td>\n      <td>-103.507932</td>\n      <td>0</td>\n      <td>0</td>\n      <td>0</td>\n      <td>0</td>\n      <td>Butte, South Dakota, US</td>\n      <td>2020-04-11</td>\n    </tr>\n    <tr>\n      <th>2397</th>\n      <td>Unassigned</td>\n      <td>Alabama</td>\n      <td>US</td>\n      <td>2020-04-11 22:45:33</td>\n      <td>NaN</td>\n      <td>NaN</td>\n      <td>0</td>\n      <td>0</td>\n      <td>0</td>\n      <td>0</td>\n      <td>Unassigned, Alabama, US</td>\n      <td>2020-04-11</td>\n    </tr>\n    <tr>\n      <th>2398</th>\n      <td>Unassigned</td>\n      <td>Alaska</td>\n      <td>US</td>\n      <td>2020-04-11 22:45:33</td>\n      <td>NaN</td>\n      <td>NaN</td>\n      <td>0</td>\n      <td>3</td>\n      <td>0</td>\n      <td>0</td>\n      <td>Unassigned, Alaska, US</td>\n      <td>2020-04-11</td>\n    </tr>\n    <tr>\n      <th>2399</th>\n      <td>Unassigned</td>\n      <td>Arizona</td>\n      <td>US</td>\n      <td>2020-04-11 22:45:33</td>\n      <td>NaN</td>\n      <td>NaN</td>\n      <td>0</td>\n      <td>29</td>\n      <td>0</td>\n      <td>0</td>\n      <td>Unassigned, Arizona, US</td>\n      <td>2020-04-11</td>\n    </tr>\n    <tr>\n      <th>2964</th>\n      <td>unassigned</td>\n      <td>Utah</td>\n      <td>US</td>\n      <td>2020-04-11 22:45:33</td>\n      <td>NaN</td>\n      <td>NaN</td>\n      <td>0</td>\n      <td>5</td>\n      <td>0</td>\n      <td>0</td>\n      <td>unassigned, Utah, US</td>\n      <td>2020-04-11</td>\n    </tr>\n  </tbody>\n</table>\n<p>2965 rows × 12 columns</p>\n</div>"
     },
     "execution_count": 33,
     "metadata": {},
     "output_type": "execute_result"
    }
   ],
   "source": [
    "df.sort_values(\"Confirmed\", ascending=False)"
   ],
   "metadata": {
    "collapsed": false,
    "pycharm": {
     "name": "#%%\n"
    }
   }
  },
  {
   "cell_type": "code",
   "execution_count": 34,
   "outputs": [
    {
     "data": {
      "text/plain": "          Admin2            Province_State Country_Region  \\\n0      Abbeville            South Carolina             US   \n1         Acadia                 Louisiana             US   \n2       Accomack                  Virginia             US   \n3            Ada                     Idaho             US   \n4          Adair                      Iowa             US   \n...          ...                       ...            ...   \n2748         NaN  Northern Mariana Islands             US   \n2754         NaN               Puerto Rico             US   \n2759         NaN                 Recovered             US   \n2777         NaN            Virgin Islands             US   \n2964  unassigned                      Utah             US   \n\n              Last_Update        Lat       Long_  Confirmed  Deaths  \\\n0     2020-04-11 22:45:33  34.223334  -82.461707          9       0   \n1     2020-04-11 22:45:33  30.295065  -92.414197         98       4   \n2     2020-04-11 22:45:33  37.767072  -75.632346         15       0   \n3     2020-04-11 22:45:33  43.452658 -116.241552        513       6   \n4     2020-04-11 22:45:33  41.330756  -94.471059          1       0   \n...                   ...        ...         ...        ...     ...   \n2748  2020-04-11 22:45:33  15.097900  145.673900         11       2   \n2754  2020-04-11 22:45:33  18.220800  -66.590100        788      42   \n2759  2020-04-11 22:45:33        NaN         NaN          0       0   \n2777  2020-04-11 22:45:33  18.335800  -64.896300         51       1   \n2964  2020-04-11 22:45:33        NaN         NaN          0       5   \n\n      Recovered  Active                   Combined_Key        Date  \n0             0       0  Abbeville, South Carolina, US  2020-04-11  \n1             0       0          Acadia, Louisiana, US  2020-04-11  \n2             0       0         Accomack, Virginia, US  2020-04-11  \n3             0       0                 Ada, Idaho, US  2020-04-11  \n4             0       0                Adair, Iowa, US  2020-04-11  \n...         ...     ...                            ...         ...  \n2748          0       0   ,Northern Mariana Islands,US  2020-04-11  \n2754          0       0                Puerto Rico, US  2020-04-11  \n2759      31270       0                  Recovered, US  2020-04-11  \n2777          0       0             ,Virgin Islands,US  2020-04-11  \n2964          0       0           unassigned, Utah, US  2020-04-11  \n\n[2702 rows x 12 columns]",
      "text/html": "<div>\n<style scoped>\n    .dataframe tbody tr th:only-of-type {\n        vertical-align: middle;\n    }\n\n    .dataframe tbody tr th {\n        vertical-align: top;\n    }\n\n    .dataframe thead th {\n        text-align: right;\n    }\n</style>\n<table border=\"1\" class=\"dataframe\">\n  <thead>\n    <tr style=\"text-align: right;\">\n      <th></th>\n      <th>Admin2</th>\n      <th>Province_State</th>\n      <th>Country_Region</th>\n      <th>Last_Update</th>\n      <th>Lat</th>\n      <th>Long_</th>\n      <th>Confirmed</th>\n      <th>Deaths</th>\n      <th>Recovered</th>\n      <th>Active</th>\n      <th>Combined_Key</th>\n      <th>Date</th>\n    </tr>\n  </thead>\n  <tbody>\n    <tr>\n      <th>0</th>\n      <td>Abbeville</td>\n      <td>South Carolina</td>\n      <td>US</td>\n      <td>2020-04-11 22:45:33</td>\n      <td>34.223334</td>\n      <td>-82.461707</td>\n      <td>9</td>\n      <td>0</td>\n      <td>0</td>\n      <td>0</td>\n      <td>Abbeville, South Carolina, US</td>\n      <td>2020-04-11</td>\n    </tr>\n    <tr>\n      <th>1</th>\n      <td>Acadia</td>\n      <td>Louisiana</td>\n      <td>US</td>\n      <td>2020-04-11 22:45:33</td>\n      <td>30.295065</td>\n      <td>-92.414197</td>\n      <td>98</td>\n      <td>4</td>\n      <td>0</td>\n      <td>0</td>\n      <td>Acadia, Louisiana, US</td>\n      <td>2020-04-11</td>\n    </tr>\n    <tr>\n      <th>2</th>\n      <td>Accomack</td>\n      <td>Virginia</td>\n      <td>US</td>\n      <td>2020-04-11 22:45:33</td>\n      <td>37.767072</td>\n      <td>-75.632346</td>\n      <td>15</td>\n      <td>0</td>\n      <td>0</td>\n      <td>0</td>\n      <td>Accomack, Virginia, US</td>\n      <td>2020-04-11</td>\n    </tr>\n    <tr>\n      <th>3</th>\n      <td>Ada</td>\n      <td>Idaho</td>\n      <td>US</td>\n      <td>2020-04-11 22:45:33</td>\n      <td>43.452658</td>\n      <td>-116.241552</td>\n      <td>513</td>\n      <td>6</td>\n      <td>0</td>\n      <td>0</td>\n      <td>Ada, Idaho, US</td>\n      <td>2020-04-11</td>\n    </tr>\n    <tr>\n      <th>4</th>\n      <td>Adair</td>\n      <td>Iowa</td>\n      <td>US</td>\n      <td>2020-04-11 22:45:33</td>\n      <td>41.330756</td>\n      <td>-94.471059</td>\n      <td>1</td>\n      <td>0</td>\n      <td>0</td>\n      <td>0</td>\n      <td>Adair, Iowa, US</td>\n      <td>2020-04-11</td>\n    </tr>\n    <tr>\n      <th>...</th>\n      <td>...</td>\n      <td>...</td>\n      <td>...</td>\n      <td>...</td>\n      <td>...</td>\n      <td>...</td>\n      <td>...</td>\n      <td>...</td>\n      <td>...</td>\n      <td>...</td>\n      <td>...</td>\n      <td>...</td>\n    </tr>\n    <tr>\n      <th>2748</th>\n      <td>NaN</td>\n      <td>Northern Mariana Islands</td>\n      <td>US</td>\n      <td>2020-04-11 22:45:33</td>\n      <td>15.097900</td>\n      <td>145.673900</td>\n      <td>11</td>\n      <td>2</td>\n      <td>0</td>\n      <td>0</td>\n      <td>,Northern Mariana Islands,US</td>\n      <td>2020-04-11</td>\n    </tr>\n    <tr>\n      <th>2754</th>\n      <td>NaN</td>\n      <td>Puerto Rico</td>\n      <td>US</td>\n      <td>2020-04-11 22:45:33</td>\n      <td>18.220800</td>\n      <td>-66.590100</td>\n      <td>788</td>\n      <td>42</td>\n      <td>0</td>\n      <td>0</td>\n      <td>Puerto Rico, US</td>\n      <td>2020-04-11</td>\n    </tr>\n    <tr>\n      <th>2759</th>\n      <td>NaN</td>\n      <td>Recovered</td>\n      <td>US</td>\n      <td>2020-04-11 22:45:33</td>\n      <td>NaN</td>\n      <td>NaN</td>\n      <td>0</td>\n      <td>0</td>\n      <td>31270</td>\n      <td>0</td>\n      <td>Recovered, US</td>\n      <td>2020-04-11</td>\n    </tr>\n    <tr>\n      <th>2777</th>\n      <td>NaN</td>\n      <td>Virgin Islands</td>\n      <td>US</td>\n      <td>2020-04-11 22:45:33</td>\n      <td>18.335800</td>\n      <td>-64.896300</td>\n      <td>51</td>\n      <td>1</td>\n      <td>0</td>\n      <td>0</td>\n      <td>,Virgin Islands,US</td>\n      <td>2020-04-11</td>\n    </tr>\n    <tr>\n      <th>2964</th>\n      <td>unassigned</td>\n      <td>Utah</td>\n      <td>US</td>\n      <td>2020-04-11 22:45:33</td>\n      <td>NaN</td>\n      <td>NaN</td>\n      <td>0</td>\n      <td>5</td>\n      <td>0</td>\n      <td>0</td>\n      <td>unassigned, Utah, US</td>\n      <td>2020-04-11</td>\n    </tr>\n  </tbody>\n</table>\n<p>2702 rows × 12 columns</p>\n</div>"
     },
     "execution_count": 34,
     "metadata": {},
     "output_type": "execute_result"
    }
   ],
   "source": [
    "df[df[\"Country_Region\"] == \"US\"]"
   ],
   "metadata": {
    "collapsed": false,
    "pycharm": {
     "name": "#%%\n"
    }
   }
  },
  {
   "cell_type": "code",
   "execution_count": 40,
   "outputs": [
    {
     "data": {
      "text/plain": "             Admin2 Province_State Country_Region          Last_Update  \\\n2108  San Francisco     California             US  2020-04-11 22:45:33   \n\n            Lat       Long_  Confirmed  Deaths  Recovered  Active  \\\n2108  37.752151 -122.438567        857      13          0       0   \n\n                       Combined_Key        Date  \n2108  San Francisco, California, US  2020-04-11  ",
      "text/html": "<div>\n<style scoped>\n    .dataframe tbody tr th:only-of-type {\n        vertical-align: middle;\n    }\n\n    .dataframe tbody tr th {\n        vertical-align: top;\n    }\n\n    .dataframe thead th {\n        text-align: right;\n    }\n</style>\n<table border=\"1\" class=\"dataframe\">\n  <thead>\n    <tr style=\"text-align: right;\">\n      <th></th>\n      <th>Admin2</th>\n      <th>Province_State</th>\n      <th>Country_Region</th>\n      <th>Last_Update</th>\n      <th>Lat</th>\n      <th>Long_</th>\n      <th>Confirmed</th>\n      <th>Deaths</th>\n      <th>Recovered</th>\n      <th>Active</th>\n      <th>Combined_Key</th>\n      <th>Date</th>\n    </tr>\n  </thead>\n  <tbody>\n    <tr>\n      <th>2108</th>\n      <td>San Francisco</td>\n      <td>California</td>\n      <td>US</td>\n      <td>2020-04-11 22:45:33</td>\n      <td>37.752151</td>\n      <td>-122.438567</td>\n      <td>857</td>\n      <td>13</td>\n      <td>0</td>\n      <td>0</td>\n      <td>San Francisco, California, US</td>\n      <td>2020-04-11</td>\n    </tr>\n  </tbody>\n</table>\n</div>"
     },
     "execution_count": 40,
     "metadata": {},
     "output_type": "execute_result"
    }
   ],
   "source": [
    "df[(df[\"Country_Region\"] == \"US\") & (df[\"Province_State\"] == \"California\") & (df[\"Admin2\"] == \"San Francisco\")]"
   ],
   "metadata": {
    "collapsed": false,
    "pycharm": {
     "name": "#%%\n"
    }
   }
  },
  {
   "cell_type": "code",
   "execution_count": 42,
   "outputs": [
    {
     "data": {
      "text/plain": "                    Admin2  Province_State  Last_Update  Lat  Long_  \\\nCountry_Region                                                        \nAfghanistan              0               0            1    1      1   \nAlbania                  0               0            1    1      1   \nAlgeria                  0               0            1    1      1   \nAndorra                  0               0            1    1      1   \nAngola                   0               0            1    1      1   \n...                    ...             ...          ...  ...    ...   \nWest Bank and Gaza       0               0            1    1      1   \nWestern Sahara           0               0            1    1      1   \nYemen                    0               0            1    1      1   \nZambia                   0               0            1    1      1   \nZimbabwe                 0               0            1    1      1   \n\n                    Confirmed  Deaths  Recovered  Active  Combined_Key  Date  \nCountry_Region                                                                \nAfghanistan                 1       1          1       1             1     1  \nAlbania                     1       1          1       1             1     1  \nAlgeria                     1       1          1       1             1     1  \nAndorra                     1       1          1       1             1     1  \nAngola                      1       1          1       1             1     1  \n...                       ...     ...        ...     ...           ...   ...  \nWest Bank and Gaza          1       1          1       1             1     1  \nWestern Sahara              1       1          1       1             1     1  \nYemen                       1       1          1       1             1     1  \nZambia                      1       1          1       1             1     1  \nZimbabwe                    1       1          1       1             1     1  \n\n[185 rows x 11 columns]",
      "text/html": "<div>\n<style scoped>\n    .dataframe tbody tr th:only-of-type {\n        vertical-align: middle;\n    }\n\n    .dataframe tbody tr th {\n        vertical-align: top;\n    }\n\n    .dataframe thead th {\n        text-align: right;\n    }\n</style>\n<table border=\"1\" class=\"dataframe\">\n  <thead>\n    <tr style=\"text-align: right;\">\n      <th></th>\n      <th>Admin2</th>\n      <th>Province_State</th>\n      <th>Last_Update</th>\n      <th>Lat</th>\n      <th>Long_</th>\n      <th>Confirmed</th>\n      <th>Deaths</th>\n      <th>Recovered</th>\n      <th>Active</th>\n      <th>Combined_Key</th>\n      <th>Date</th>\n    </tr>\n    <tr>\n      <th>Country_Region</th>\n      <th></th>\n      <th></th>\n      <th></th>\n      <th></th>\n      <th></th>\n      <th></th>\n      <th></th>\n      <th></th>\n      <th></th>\n      <th></th>\n      <th></th>\n    </tr>\n  </thead>\n  <tbody>\n    <tr>\n      <th>Afghanistan</th>\n      <td>0</td>\n      <td>0</td>\n      <td>1</td>\n      <td>1</td>\n      <td>1</td>\n      <td>1</td>\n      <td>1</td>\n      <td>1</td>\n      <td>1</td>\n      <td>1</td>\n      <td>1</td>\n    </tr>\n    <tr>\n      <th>Albania</th>\n      <td>0</td>\n      <td>0</td>\n      <td>1</td>\n      <td>1</td>\n      <td>1</td>\n      <td>1</td>\n      <td>1</td>\n      <td>1</td>\n      <td>1</td>\n      <td>1</td>\n      <td>1</td>\n    </tr>\n    <tr>\n      <th>Algeria</th>\n      <td>0</td>\n      <td>0</td>\n      <td>1</td>\n      <td>1</td>\n      <td>1</td>\n      <td>1</td>\n      <td>1</td>\n      <td>1</td>\n      <td>1</td>\n      <td>1</td>\n      <td>1</td>\n    </tr>\n    <tr>\n      <th>Andorra</th>\n      <td>0</td>\n      <td>0</td>\n      <td>1</td>\n      <td>1</td>\n      <td>1</td>\n      <td>1</td>\n      <td>1</td>\n      <td>1</td>\n      <td>1</td>\n      <td>1</td>\n      <td>1</td>\n    </tr>\n    <tr>\n      <th>Angola</th>\n      <td>0</td>\n      <td>0</td>\n      <td>1</td>\n      <td>1</td>\n      <td>1</td>\n      <td>1</td>\n      <td>1</td>\n      <td>1</td>\n      <td>1</td>\n      <td>1</td>\n      <td>1</td>\n    </tr>\n    <tr>\n      <th>...</th>\n      <td>...</td>\n      <td>...</td>\n      <td>...</td>\n      <td>...</td>\n      <td>...</td>\n      <td>...</td>\n      <td>...</td>\n      <td>...</td>\n      <td>...</td>\n      <td>...</td>\n      <td>...</td>\n    </tr>\n    <tr>\n      <th>West Bank and Gaza</th>\n      <td>0</td>\n      <td>0</td>\n      <td>1</td>\n      <td>1</td>\n      <td>1</td>\n      <td>1</td>\n      <td>1</td>\n      <td>1</td>\n      <td>1</td>\n      <td>1</td>\n      <td>1</td>\n    </tr>\n    <tr>\n      <th>Western Sahara</th>\n      <td>0</td>\n      <td>0</td>\n      <td>1</td>\n      <td>1</td>\n      <td>1</td>\n      <td>1</td>\n      <td>1</td>\n      <td>1</td>\n      <td>1</td>\n      <td>1</td>\n      <td>1</td>\n    </tr>\n    <tr>\n      <th>Yemen</th>\n      <td>0</td>\n      <td>0</td>\n      <td>1</td>\n      <td>1</td>\n      <td>1</td>\n      <td>1</td>\n      <td>1</td>\n      <td>1</td>\n      <td>1</td>\n      <td>1</td>\n      <td>1</td>\n    </tr>\n    <tr>\n      <th>Zambia</th>\n      <td>0</td>\n      <td>0</td>\n      <td>1</td>\n      <td>1</td>\n      <td>1</td>\n      <td>1</td>\n      <td>1</td>\n      <td>1</td>\n      <td>1</td>\n      <td>1</td>\n      <td>1</td>\n    </tr>\n    <tr>\n      <th>Zimbabwe</th>\n      <td>0</td>\n      <td>0</td>\n      <td>1</td>\n      <td>1</td>\n      <td>1</td>\n      <td>1</td>\n      <td>1</td>\n      <td>1</td>\n      <td>1</td>\n      <td>1</td>\n      <td>1</td>\n    </tr>\n  </tbody>\n</table>\n<p>185 rows × 11 columns</p>\n</div>"
     },
     "execution_count": 42,
     "metadata": {},
     "output_type": "execute_result"
    }
   ],
   "source": [
    "df.groupby(\"Country_Region\").count()"
   ],
   "metadata": {
    "collapsed": false,
    "pycharm": {
     "name": "#%%\n"
    }
   }
  },
  {
   "cell_type": "code",
   "execution_count": 47,
   "outputs": [
    {
     "data": {
      "text/plain": "Country_Region\nUS                  526396\nSpain               163027\nItaly               152271\nFrance              130727\nGermany             124908\n                     ...  \nSouth Sudan              4\nWestern Sahara           4\nTimor-Leste              2\nPapua New Guinea         2\nYemen                    1\nName: Confirmed, Length: 185, dtype: int64"
     },
     "execution_count": 47,
     "metadata": {},
     "output_type": "execute_result"
    }
   ],
   "source": [
    "\n",
    "df.groupby(\"Country_Region\")[\"Confirmed\"].sum().sort_values(ascending=False)\n",
    "\n"
   ],
   "metadata": {
    "collapsed": false,
    "pycharm": {
     "name": "#%%\n"
    }
   }
  },
  {
   "cell_type": "markdown",
   "source": [
    "Which US states have the most cases"
   ],
   "metadata": {
    "collapsed": false
   }
  },
  {
   "cell_type": "code",
   "execution_count": 48,
   "outputs": [
    {
     "data": {
      "text/plain": "Province_State\nNew York                    181026\nNew Jersey                   58151\nMichigan                     23605\nMassachusetts                22860\nPennsylvania                 21719\nCalifornia                   21706\nLouisiana                    20014\nIllinois                     19180\nFlorida                      18494\nTexas                        13023\nGeorgia                      12159\nConnecticut                  11510\nWashington                   10434\nMaryland                      7694\nIndiana                       7435\nColorado                      6513\nOhio                          6250\nTennessee                     5132\nVirginia                      5077\nNorth Carolina                4354\nMissouri                      4108\nArizona                       3393\nAlabama                       3217\nWisconsin                     3213\nSouth Carolina                3211\nNevada                        2702\nMississippi                   2642\nRhode Island                  2349\nUtah                          2207\nOklahoma                      1868\nDistrict of Columbia          1778\nKentucky                      1693\nIowa                          1510\nDelaware                      1479\nMinnesota                     1427\nIdaho                         1396\nOregon                        1371\nKansas                        1275\nArkansas                      1228\nNew Mexico                    1091\nNew Hampshire                  885\nPuerto Rico                    788\nVermont                        711\nNebraska                       699\nSouth Dakota                   626\nMaine                          616\nWest Virginia                  577\nHawaii                         465\nMontana                        377\nNorth Dakota                   293\nWyoming                        261\nAlaska                         257\nGuam                           133\nGrand Princess                 103\nVirgin Islands                  51\nDiamond Princess                49\nNorthern Mariana Islands        11\nRecovered                        0\nName: Confirmed, dtype: int64"
     },
     "execution_count": 48,
     "metadata": {},
     "output_type": "execute_result"
    }
   ],
   "source": [
    "df[df[\"Country_Region\"] == \"US\"].groupby(\"Province_State\")[\"Confirmed\"].sum().sort_values(ascending=False)"
   ],
   "metadata": {
    "collapsed": false,
    "pycharm": {
     "name": "#%%\n"
    }
   }
  },
  {
   "cell_type": "markdown",
   "source": [
    "Do we have null values"
   ],
   "metadata": {
    "collapsed": false,
    "pycharm": {
     "name": "#%% md\n"
    }
   }
  },
  {
   "cell_type": "code",
   "execution_count": 50,
   "outputs": [
    {
     "data": {
      "text/plain": "Admin2            270\nProvince_State    181\nCountry_Region      0\nLast_Update         0\nLat                58\nLong_              58\nConfirmed           0\nDeaths              0\nRecovered           0\nActive              0\nCombined_Key        0\nDate                0\ndtype: int64"
     },
     "execution_count": 50,
     "metadata": {},
     "output_type": "execute_result"
    }
   ],
   "source": [
    "df.isnull().sum()"
   ],
   "metadata": {
    "collapsed": false,
    "pycharm": {
     "name": "#%%\n"
    }
   }
  },
  {
   "cell_type": "code",
   "execution_count": 52,
   "outputs": [
    {
     "data": {
      "text/plain": "(185,)"
     },
     "execution_count": 52,
     "metadata": {},
     "output_type": "execute_result"
    }
   ],
   "source": [
    "df['Country_Region'].unique().shape"
   ],
   "metadata": {
    "collapsed": false,
    "pycharm": {
     "name": "#%%\n"
    }
   }
  },
  {
   "cell_type": "code",
   "execution_count": 53,
   "outputs": [
    {
     "data": {
      "text/plain": "                 Admin2     Province_State Country_Region  \\\n2962  NO DATA AVAILABLE  NO DATA AVAILABLE         Zambia   \n2963  NO DATA AVAILABLE  NO DATA AVAILABLE       Zimbabwe   \n2964         unassigned               Utah             US   \n\n              Last_Update                Lat              Long_  Confirmed  \\\n2962  2020-04-11 22:45:13           -13.1339            27.8493         40   \n2963  2020-04-11 22:45:13           -19.0154            29.1549         14   \n2964  2020-04-11 22:45:33  NO DATA AVAILABLE  NO DATA AVAILABLE          0   \n\n      Deaths  Recovered  Active          Combined_Key        Date  \n2962       2         28      10                Zambia  2020-04-11  \n2963       3          0      11              Zimbabwe  2020-04-11  \n2964       5          0       0  unassigned, Utah, US  2020-04-11  ",
      "text/html": "<div>\n<style scoped>\n    .dataframe tbody tr th:only-of-type {\n        vertical-align: middle;\n    }\n\n    .dataframe tbody tr th {\n        vertical-align: top;\n    }\n\n    .dataframe thead th {\n        text-align: right;\n    }\n</style>\n<table border=\"1\" class=\"dataframe\">\n  <thead>\n    <tr style=\"text-align: right;\">\n      <th></th>\n      <th>Admin2</th>\n      <th>Province_State</th>\n      <th>Country_Region</th>\n      <th>Last_Update</th>\n      <th>Lat</th>\n      <th>Long_</th>\n      <th>Confirmed</th>\n      <th>Deaths</th>\n      <th>Recovered</th>\n      <th>Active</th>\n      <th>Combined_Key</th>\n      <th>Date</th>\n    </tr>\n  </thead>\n  <tbody>\n    <tr>\n      <th>2962</th>\n      <td>NO DATA AVAILABLE</td>\n      <td>NO DATA AVAILABLE</td>\n      <td>Zambia</td>\n      <td>2020-04-11 22:45:13</td>\n      <td>-13.1339</td>\n      <td>27.8493</td>\n      <td>40</td>\n      <td>2</td>\n      <td>28</td>\n      <td>10</td>\n      <td>Zambia</td>\n      <td>2020-04-11</td>\n    </tr>\n    <tr>\n      <th>2963</th>\n      <td>NO DATA AVAILABLE</td>\n      <td>NO DATA AVAILABLE</td>\n      <td>Zimbabwe</td>\n      <td>2020-04-11 22:45:13</td>\n      <td>-19.0154</td>\n      <td>29.1549</td>\n      <td>14</td>\n      <td>3</td>\n      <td>0</td>\n      <td>11</td>\n      <td>Zimbabwe</td>\n      <td>2020-04-11</td>\n    </tr>\n    <tr>\n      <th>2964</th>\n      <td>unassigned</td>\n      <td>Utah</td>\n      <td>US</td>\n      <td>2020-04-11 22:45:33</td>\n      <td>NO DATA AVAILABLE</td>\n      <td>NO DATA AVAILABLE</td>\n      <td>0</td>\n      <td>5</td>\n      <td>0</td>\n      <td>0</td>\n      <td>unassigned, Utah, US</td>\n      <td>2020-04-11</td>\n    </tr>\n  </tbody>\n</table>\n</div>"
     },
     "execution_count": 53,
     "metadata": {},
     "output_type": "execute_result"
    }
   ],
   "source": [
    "df.fillna(\"NO DATA AVAILABLE\").tail(3)"
   ],
   "metadata": {
    "collapsed": false,
    "pycharm": {
     "name": "#%%\n"
    }
   }
  },
  {
   "cell_type": "code",
   "execution_count": 55,
   "outputs": [],
   "source": [
    "import matplotlib.pyplot as plt\n",
    "\n",
    "%matplotlib inline"
   ],
   "metadata": {
    "collapsed": false,
    "pycharm": {
     "name": "#%%\n"
    }
   }
  },
  {
   "cell_type": "code",
   "execution_count": 56,
   "outputs": [],
   "source": [
    "us_subset_df = df[df[\"Country_Region\"] == \"US\"]"
   ],
   "metadata": {
    "collapsed": false,
    "pycharm": {
     "name": "#%%\n"
    }
   }
  },
  {
   "cell_type": "code",
   "execution_count": 57,
   "outputs": [
    {
     "data": {
      "text/plain": "<matplotlib.axes._subplots.AxesSubplot at 0x119c109d0>"
     },
     "execution_count": 57,
     "metadata": {},
     "output_type": "execute_result"
    },
    {
     "data": {
      "text/plain": "<Figure size 432x288 with 1 Axes>",
      "image/png": "[encoded data removed]"
     },
     "metadata": {
      "needs_background": "light"
     },
     "output_type": "display_data"
    }
   ],
   "source": [
    "us_subset_df.groupby(\"Province_State\")[\"Deaths\"].sum().hist()"
   ],
   "metadata": {
    "collapsed": false,
    "pycharm": {
     "name": "#%%\n"
    }
   }
  },
  {
   "cell_type": "code",
   "execution_count": 58,
   "outputs": [
    {
     "name": "stdout",
     "output_type": "stream",
     "text": [
      "Help on method hist_series in module pandas.plotting._core:\n",
      "\n",
      "hist_series(by=None, ax=None, grid=True, xlabelsize=None, xrot=None, ylabelsize=None, yrot=None, figsize=None, bins=10, **kwds) method of pandas.core.series.Series instance\n",
      "    Draw histogram of the input series using matplotlib.\n",
      "    \n",
      "    Parameters\n",
      "    ----------\n",
      "    by : object, optional\n",
      "        If passed, then used to form histograms for separate groups\n",
      "    ax : matplotlib axis object\n",
      "        If not passed, uses gca()\n",
      "    grid : bool, default True\n",
      "        Whether to show axis grid lines\n",
      "    xlabelsize : int, default None\n",
      "        If specified changes the x-axis label size\n",
      "    xrot : float, default None\n",
      "        rotation of x axis labels\n",
      "    ylabelsize : int, default None\n",
      "        If specified changes the y-axis label size\n",
      "    yrot : float, default None\n",
      "        rotation of y axis labels\n",
      "    figsize : tuple, default None\n",
      "        figure size in inches by default\n",
      "    bins : integer or sequence, default 10\n",
      "        Number of histogram bins to be used. If an integer is given, bins + 1\n",
      "        bin edges are calculated and returned. If bins is a sequence, gives\n",
      "        bin edges, including left edge of first bin and right edge of last\n",
      "        bin. In this case, bins is returned unmodified.\n",
      "    `**kwds` : keywords\n",
      "        To be passed to the actual plotting function\n",
      "    \n",
      "    Returns\n",
      "    -------\n",
      "    matplotlib.AxesSubplot\n",
      "        A histogram plot.\n",
      "    \n",
      "    See Also\n",
      "    --------\n",
      "    matplotlib.axes.Axes.hist : Plot a histogram using matplotlib.\n",
      "\n"
     ]
    }
   ],
   "source": [
    "help(us_subset_df.groupby(\"Province_State\")[\"Deaths\"].sum().hist)"
   ],
   "metadata": {
    "collapsed": false,
    "pycharm": {
     "name": "#%%\n"
    }
   }
  },
  {
   "cell_type": "code",
   "execution_count": 59,
   "outputs": [
    {
     "data": {
      "text/plain": "<matplotlib.axes._subplots.AxesSubplot at 0x118e8d250>"
     },
     "execution_count": 59,
     "metadata": {},
     "output_type": "execute_result"
    },
    {
     "data": {
      "text/plain": "<Figure size 432x288 with 1 Axes>",
      "image/png": "[encoded data removed]"
     },
     "metadata": {
      "needs_background": "light"
     },
     "output_type": "display_data"
    }
   ],
   "source": [
    "us_subset_df.groupby(\"Province_State\")[\"Deaths\"].sum().hist(bins=30)"
   ],
   "metadata": {
    "collapsed": false,
    "pycharm": {
     "name": "#%%\n"
    }
   }
  },
  {
   "cell_type": "code",
   "execution_count": 60,
   "outputs": [
    {
     "data": {
      "text/plain": "<matplotlib.axes._subplots.AxesSubplot at 0x11cc83890>"
     },
     "execution_count": 60,
     "metadata": {},
     "output_type": "execute_result"
    },
    {
     "data": {
      "text/plain": "<Figure size 432x288 with 1 Axes>",
      "image/png": "[encoded data removed]"
     },
     "metadata": {
      "needs_background": "light"
     },
     "output_type": "display_data"
    }
   ],
   "source": [
    "us_subset_df.plot.scatter(x=\"Confirmed\", y=\"Deaths\")"
   ],
   "metadata": {
    "collapsed": false,
    "pycharm": {
     "name": "#%%\n"
    }
   }
  },
  {
   "cell_type": "code",
   "execution_count": 61,
   "outputs": [
    {
     "data": {
      "text/plain": "<matplotlib.axes._subplots.AxesSubplot at 0x11cc9e450>"
     },
     "execution_count": 61,
     "metadata": {},
     "output_type": "execute_result"
    },
    {
     "data": {
      "text/plain": "<Figure size 432x288 with 1 Axes>",
      "image/png": "[encoded data removed]"
     },
     "metadata": {
      "needs_background": "light"
     },
     "output_type": "display_data"
    }
   ],
   "source": [
    "us_subset_df[us_subset_df[\"Deaths\"]<1000].plot.scatter(x=\"Confirmed\", y=\"Deaths\")\n"
   ],
   "metadata": {
    "collapsed": false,
    "pycharm": {
     "name": "#%%\n"
    }
   }
  },
  {
   "cell_type": "code",
   "execution_count": 65,
   "outputs": [],
   "source": [
    "import glob\n",
    "\n",
    "all_files = glob.glob(daily_reports_path+\"/*.csv\")\n",
    "\n",
    "\n",
    "dfs = []\n",
    "for filename in all_files:\n",
    "    temp_df = pd.read_csv(filename)\n",
    "    temp_df.columns = [c.replace(\"/\", \"_\") for c in temp_df.columns]\n",
    "    temp_df.columns = [c.replace(\" \", \"_\") for c in temp_df.columns]\n",
    "    month, day, year = filename.split(\"/\")[-1].replace(\".csv\", \"\").split(\"-\")\n",
    "    d = datetime.date(int(year), int(month), int(day))\n",
    "    temp_df[\"Date\"] = d\n",
    "\n",
    "    dfs.append(temp_df)\n",
    "\n",
    "all_days_df = pd.concat(dfs, axis=0, ignore_index=True, sort=False)\n",
    "all_days_df = all_days_df.drop([\"Latitude\", \"Longitude\", \"Lat\", \"Long_\", \"FIPS\", \"Combined_Key\", \"Last_Update\"], axis=1)"
   ],
   "metadata": {
    "collapsed": false,
    "pycharm": {
     "name": "#%%\n"
    }
   }
  },
  {
   "cell_type": "code",
   "execution_count": 70,
   "outputs": [
    {
     "data": {
      "text/plain": "           Province_State  Country_Region  Confirmed  Deaths  Recovered  \\\n0                   Hubei  Mainland China    65187.0  2615.0    20969.0   \n1               Guangdong  Mainland China     1347.0     7.0      851.0   \n2                   Henan  Mainland China     1271.0    19.0     1033.0   \n3                     NaN     South Korea     1261.0    12.0       22.0   \n4                Zhejiang  Mainland China     1205.0     1.0      867.0   \n...                   ...             ...        ...     ...        ...   \n130038         Queensland       Australia     1026.0     6.0      738.0   \n130039    South Australia       Australia      438.0     4.0      331.0   \n130040           Tasmania       Australia      207.0     9.0       67.0   \n130041           Victoria       Australia     1343.0    16.0     1172.0   \n130042  Western Australia       Australia      548.0     8.0      340.0   \n\n              Date Admin2  Active  \n0       2020-02-26    NaN     NaN  \n1       2020-02-26    NaN     NaN  \n2       2020-02-26    NaN     NaN  \n3       2020-02-26    NaN     NaN  \n4       2020-02-26    NaN     NaN  \n...            ...    ...     ...  \n130038  2020-04-24    NaN   282.0  \n130039  2020-04-24    NaN   103.0  \n130040  2020-04-24    NaN   131.0  \n130041  2020-04-24    NaN   155.0  \n130042  2020-04-24    NaN   200.0  \n\n[130043 rows x 8 columns]",
      "text/html": "<div>\n<style scoped>\n    .dataframe tbody tr th:only-of-type {\n        vertical-align: middle;\n    }\n\n    .dataframe tbody tr th {\n        vertical-align: top;\n    }\n\n    .dataframe thead th {\n        text-align: right;\n    }\n</style>\n<table border=\"1\" class=\"dataframe\">\n  <thead>\n    <tr style=\"text-align: right;\">\n      <th></th>\n      <th>Province_State</th>\n      <th>Country_Region</th>\n      <th>Confirmed</th>\n      <th>Deaths</th>\n      <th>Recovered</th>\n      <th>Date</th>\n      <th>Admin2</th>\n      <th>Active</th>\n    </tr>\n  </thead>\n  <tbody>\n    <tr>\n      <th>0</th>\n      <td>Hubei</td>\n      <td>Mainland China</td>\n      <td>65187.0</td>\n      <td>2615.0</td>\n      <td>20969.0</td>\n      <td>2020-02-26</td>\n      <td>NaN</td>\n      <td>NaN</td>\n    </tr>\n    <tr>\n      <th>1</th>\n      <td>Guangdong</td>\n      <td>Mainland China</td>\n      <td>1347.0</td>\n      <td>7.0</td>\n      <td>851.0</td>\n      <td>2020-02-26</td>\n      <td>NaN</td>\n      <td>NaN</td>\n    </tr>\n    <tr>\n      <th>2</th>\n      <td>Henan</td>\n      <td>Mainland China</td>\n      <td>1271.0</td>\n      <td>19.0</td>\n      <td>1033.0</td>\n      <td>2020-02-26</td>\n      <td>NaN</td>\n      <td>NaN</td>\n    </tr>\n    <tr>\n      <th>3</th>\n      <td>NaN</td>\n      <td>South Korea</td>\n      <td>1261.0</td>\n      <td>12.0</td>\n      <td>22.0</td>\n      <td>2020-02-26</td>\n      <td>NaN</td>\n      <td>NaN</td>\n    </tr>\n    <tr>\n      <th>4</th>\n      <td>Zhejiang</td>\n      <td>Mainland China</td>\n      <td>1205.0</td>\n      <td>1.0</td>\n      <td>867.0</td>\n      <td>2020-02-26</td>\n      <td>NaN</td>\n      <td>NaN</td>\n    </tr>\n    <tr>\n      <th>...</th>\n      <td>...</td>\n      <td>...</td>\n      <td>...</td>\n      <td>...</td>\n      <td>...</td>\n      <td>...</td>\n      <td>...</td>\n      <td>...</td>\n    </tr>\n    <tr>\n      <th>130038</th>\n      <td>Queensland</td>\n      <td>Australia</td>\n      <td>1026.0</td>\n      <td>6.0</td>\n      <td>738.0</td>\n      <td>2020-04-24</td>\n      <td>NaN</td>\n      <td>282.0</td>\n    </tr>\n    <tr>\n      <th>130039</th>\n      <td>South Australia</td>\n      <td>Australia</td>\n      <td>438.0</td>\n      <td>4.0</td>\n      <td>331.0</td>\n      <td>2020-04-24</td>\n      <td>NaN</td>\n      <td>103.0</td>\n    </tr>\n    <tr>\n      <th>130040</th>\n      <td>Tasmania</td>\n      <td>Australia</td>\n      <td>207.0</td>\n      <td>9.0</td>\n      <td>67.0</td>\n      <td>2020-04-24</td>\n      <td>NaN</td>\n      <td>131.0</td>\n    </tr>\n    <tr>\n      <th>130041</th>\n      <td>Victoria</td>\n      <td>Australia</td>\n      <td>1343.0</td>\n      <td>16.0</td>\n      <td>1172.0</td>\n      <td>2020-04-24</td>\n      <td>NaN</td>\n      <td>155.0</td>\n    </tr>\n    <tr>\n      <th>130042</th>\n      <td>Western Australia</td>\n      <td>Australia</td>\n      <td>548.0</td>\n      <td>8.0</td>\n      <td>340.0</td>\n      <td>2020-04-24</td>\n      <td>NaN</td>\n      <td>200.0</td>\n    </tr>\n  </tbody>\n</table>\n<p>130043 rows × 8 columns</p>\n</div>"
     },
     "execution_count": 70,
     "metadata": {},
     "output_type": "execute_result"
    }
   ],
   "source": [
    "all_days_df"
   ],
   "metadata": {
    "collapsed": false,
    "pycharm": {
     "name": "#%%\n"
    }
   }
  },
  {
   "cell_type": "code",
   "execution_count": 69,
   "outputs": [
    {
     "data": {
      "text/plain": "(130043, 8)"
     },
     "execution_count": 69,
     "metadata": {},
     "output_type": "execute_result"
    }
   ],
   "source": [
    "all_days_df.shape"
   ],
   "metadata": {
    "collapsed": false,
    "pycharm": {
     "name": "#%%\n"
    }
   }
  },
  {
   "cell_type": "code",
   "execution_count": 71,
   "outputs": [
    {
     "data": {
      "text/plain": "<matplotlib.axes._subplots.AxesSubplot at 0x12333c210>"
     },
     "execution_count": 71,
     "metadata": {},
     "output_type": "execute_result"
    },
    {
     "data": {
      "text/plain": "<Figure size 432x288 with 1 Axes>",
      "image/png": "[encoded data removed]"
     },
     "metadata": {
      "needs_background": "light"
     },
     "output_type": "display_data"
    }
   ],
   "source": [
    "all_days_df.groupby(\"Date\")[\"Confirmed\"].sum().plot(title=\"Confirmed Cases over Time\", rot=45)"
   ],
   "metadata": {
    "collapsed": false,
    "pycharm": {
     "name": "#%%\n"
    }
   }
  },
  {
   "cell_type": "code",
   "execution_count": 72,
   "outputs": [
    {
     "data": {
      "text/plain": "<matplotlib.axes._subplots.AxesSubplot at 0x122f83e10>"
     },
     "execution_count": 72,
     "metadata": {},
     "output_type": "execute_result"
    },
    {
     "data": {
      "text/plain": "<Figure size 432x288 with 1 Axes>",
      "image/png": "[encoded data removed]"
     },
     "metadata": {
      "needs_background": "light"
     },
     "output_type": "display_data"
    }
   ],
   "source": [
    "all_days_df.groupby(\"Date\")[\"Confirmed\", \"Deaths\", \"Recovered\"].sum().plot(title=\"Confirmed, Deaths, Recovered over Time\", rot=45)\n"
   ],
   "metadata": {
    "collapsed": false,
    "pycharm": {
     "name": "#%%\n"
    }
   }
  },
  {
   "cell_type": "code",
   "execution_count": 74,
   "outputs": [
    {
     "data": {
      "text/plain": "<matplotlib.axes._subplots.AxesSubplot at 0x120a28490>"
     },
     "execution_count": 74,
     "metadata": {},
     "output_type": "execute_result"
    },
    {
     "data": {
      "text/plain": "<Figure size 432x288 with 1 Axes>",
      "image/png": "[encoded data removed]"
     },
     "metadata": {
      "needs_background": "light"
     },
     "output_type": "display_data"
    }
   ],
   "source": [
    "(all_days_df[(all_days_df[\"Country_Region\"] == \"US\") & (all_days_df[\"Province_State\"] == \"California\") & (all_days_df[\"Admin2\"] == \"San Francisco\")].groupby(\"Date\")[\"Confirmed\", \"Deaths\", \"Recovered\"].sum()\n",
    " .plot(title=\"Confirmed, Deaths, Recovered over Time\", rot=45))"
   ],
   "metadata": {
    "collapsed": false,
    "pycharm": {
     "name": "#%%\n"
    }
   }
  },
  {
   "cell_type": "code",
   "execution_count": 75,
   "outputs": [],
   "source": [
    "def plotMyCountry(Country_Region, Province_State, Admin2):\n",
    "    (all_days_df[(all_days_df[\"Country_Region\"] == \"US\") & (all_days_df[\"Province_State\"] == \"California\") & (all_days_df[\"Admin2\"] == \"San Francisco\")].groupby(\"Date\")[\"Confirmed\", \"Deaths\", \"Recovered\"].sum()\n",
    "     .plot(title=\"Confirmed, Deaths, Recovered over Time\", rot=45))"
   ],
   "metadata": {
    "collapsed": false,
    "pycharm": {
     "name": "#%%\n"
    }
   }
  },
  {
   "cell_type": "code",
   "execution_count": 76,
   "outputs": [
    {
     "data": {
      "text/plain": "<Figure size 432x288 with 1 Axes>",
      "image/png": "[encoded data removed]"
     },
     "metadata": {
      "needs_background": "light"
     },
     "output_type": "display_data"
    }
   ],
   "source": [
    "plotMyCountry(\"US\", \"California\", \"San Francisco\")\n",
    "\n"
   ],
   "metadata": {
    "collapsed": false,
    "pycharm": {
     "name": "#%%\n"
    }
   }
  },
  {
   "cell_type": "code",
   "execution_count": null,
   "outputs": [],
   "source": [
    "\n"
   ],
   "metadata": {
    "collapsed": false,
    "pycharm": {
     "name": "#%%\n"
    }
   }
  }
 ]
}